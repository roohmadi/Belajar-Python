{
 "cells": [
  {
   "cell_type": "code",
   "execution_count": 1,
   "metadata": {},
   "outputs": [
    {
     "name": "stdout",
     "output_type": "stream",
     "text": [
      "['Dewi', 'Budi', 'Cici', 'Linda', 'Cici']\n",
      "{'Linda', 'Budi', 'Cici', 'Dewi'}\n",
      "{'Linda', 'Budi', 'Cici', 'Dewi'}\n"
     ]
    }
   ],
   "source": [
    "contoh_data_list = ['Dewi', 'Budi', 'Cici', 'Linda', 'Cici']\n",
    "print(contoh_data_list)\n",
    "contoh_data_set = {'Dewi', 'Budi', 'Cici', 'Linda', 'Cici'}\n",
    "print(contoh_data_set)\n",
    "contoh_set_frozen = ({'Dewi', 'Budi', 'Cici', 'Linda', 'Cici'})\n",
    "print(contoh_set_frozen)"
   ]
  },
  {
   "cell_type": "code",
   "execution_count": null,
   "metadata": {},
   "outputs": [],
   "source": []
  }
 ],
 "metadata": {
  "kernelspec": {
   "display_name": "Python 3",
   "language": "python",
   "name": "python3"
  },
  "language_info": {
   "codemirror_mode": {
    "name": "ipython",
    "version": 3
   },
   "file_extension": ".py",
   "mimetype": "text/x-python",
   "name": "python",
   "nbconvert_exporter": "python",
   "pygments_lexer": "ipython3",
   "version": "3.7.7"
  }
 },
 "nbformat": 4,
 "nbformat_minor": 4
}
